{
 "cells": [
  {
   "cell_type": "code",
   "execution_count": 34,
   "metadata": {},
   "outputs": [],
   "source": [
    "import speech_recognition as sr\n",
    "import pyttsx3\n",
    "import os\n",
    "from git import Repo\n",
    "import git\n",
    "import clipboard"
   ]
  },
  {
   "cell_type": "code",
   "execution_count": 13,
   "metadata": {},
   "outputs": [],
   "source": [
    "r = sr.Recognizer()"
   ]
  },
  {
   "cell_type": "code",
   "execution_count": 14,
   "metadata": {},
   "outputs": [],
   "source": [
    "engine = pyttsx3.init('sapi5')\n",
    "voices = engine.getProperty('voices')\n",
    "engine.setProperty('voices',voices[0].id)\n",
    "\n",
    "def SpeakText(command):    \n",
    "    print('I am invoked')\n",
    "    engine.say(command)\n",
    "    engine.runAndWait()"
   ]
  },
  {
   "cell_type": "code",
   "execution_count": 21,
   "metadata": {},
   "outputs": [
    {
     "name": "stdout",
     "output_type": "stream",
     "text": [
      "Enter the Path: E:/\n"
     ]
    }
   ],
   "source": [
    "path = input(\"Enter the Path: \")\n"
   ]
  },
  {
   "cell_type": "code",
   "execution_count": 17,
   "metadata": {},
   "outputs": [],
   "source": [
    "repo_link = clipboard.paste()"
   ]
  },
  {
   "cell_type": "code",
   "execution_count": 18,
   "metadata": {},
   "outputs": [],
   "source": [
    "def recognizeSpeech():\n",
    "    with sr.Microphone() as source2:\n",
    "        print(\"Hello Listening to your Voice\")\n",
    "        r.adjust_for_ambient_noise(source2, duration=2)\n",
    "        print(\"Start to speak\")\n",
    "\n",
    "        audio2 = r.listen(source2)\n",
    "\n",
    "        MyText = r.recognize_google(audio2)\n",
    "        MyText = MyText.lower()\n",
    "        return MyText"
   ]
  },
  {
   "cell_type": "code",
   "execution_count": 33,
   "metadata": {},
   "outputs": [
    {
     "name": "stdout",
     "output_type": "stream",
     "text": [
      "Hello Listening to your Voice\n",
      "Start to speak\n",
      "Your command:  clone\n",
      "I am invoked\n"
     ]
    }
   ],
   "source": [
    "#git clone\n",
    "command = recognizeSpeech()\n",
    "print(\"Your command: \",command)\n",
    "try:\n",
    "  if command == 'clone':\n",
    "    git.Git(path).clone(repo_link)\n",
    "    SpeakText(\"Your Repository has been successfully cloned.\")\n",
    "  else:\n",
    "    SpeakText(\"I am not able to get that command. Please try again.\")\n",
    "except:\n",
    "  SpeakText(\"Cannot Clone the current Repository to the specified Directory\")\n"
   ]
  },
  {
   "cell_type": "code",
   "execution_count": 25,
   "metadata": {},
   "outputs": [
    {
     "name": "stdout",
     "output_type": "stream",
     "text": [
      "I am invoked\n",
      "Hello Listening to your Voice\n",
      "Start to speak\n",
      "this is my commit message\n"
     ]
    }
   ],
   "source": [
    "try:\n",
    "  if command == 'save':\n",
    "    repo.git.add('--all')\n",
    "    git.Git(path).clone(repo_link)\n",
    "    SpeakText(\"Your Repository has been successfully.\")\n",
    "  else:\n",
    "    SpeakText(\"I am not able to get that command. Please try again.\")\n",
    "except:\n",
    "  SpeakText(\"Cannot Clone the current Repository to the specified Directory\")\n",
    "\n",
    "command = recognizeSpeech()\n",
    "print (message)"
   ]
  },
  {
   "cell_type": "code",
   "execution_count": null,
   "metadata": {},
   "outputs": [],
   "source": []
  },
  {
   "cell_type": "code",
   "execution_count": null,
   "metadata": {},
   "outputs": [],
   "source": []
  }
 ],
 "metadata": {
  "kernelspec": {
   "display_name": "Python 3",
   "language": "python",
   "name": "python3"
  },
  "language_info": {
   "codemirror_mode": {
    "name": "ipython",
    "version": 3
   },
   "file_extension": ".py",
   "mimetype": "text/x-python",
   "name": "python",
   "nbconvert_exporter": "python",
   "pygments_lexer": "ipython3",
   "version": "3.7.6"
  }
 },
 "nbformat": 4,
 "nbformat_minor": 4
}

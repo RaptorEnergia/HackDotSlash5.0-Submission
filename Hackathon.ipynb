{
 "cells": [
  {
   "cell_type": "code",
   "execution_count": 1,
   "metadata": {},
   "outputs": [],
   "source": [
    "import speech_recognition as sr\n",
    "import pyttsx3\n",
    "import os\n",
    "from git import Repo"
   ]
  },
  {
   "cell_type": "code",
   "execution_count": 2,
   "metadata": {},
   "outputs": [],
   "source": [
    "r = sr.Recognizer()"
   ]
  },
  {
   "cell_type": "code",
   "execution_count": 3,
   "metadata": {},
   "outputs": [],
   "source": [
    "engine = pyttsx3.init('sapi5')\n",
    "voices = engine.getProperty('voices')\n",
    "engine.setProperty('voices',voices[0].id)\n",
    "\n",
    "def SpeakText(command):    \n",
    "    print('I am invoked')\n",
    "    engine.say(command)\n",
    "    engine.runAndWait()"
   ]
  },
  {
   "cell_type": "code",
   "execution_count": null,
   "metadata": {},
   "outputs": [],
   "source": []
  },
  {
   "cell_type": "code",
   "execution_count": 6,
   "metadata": {},
   "outputs": [
    {
     "name": "stdout",
     "output_type": "stream",
     "text": [
      "Hello Listening to your Voice\n",
      "Start to speak\n",
      "Did you Say = gate loan\n"
     ]
    }
   ],
   "source": [
    "with sr.Microphone() as source2:\n",
    "    print(\"Hello Listening to your Voice\")\n",
    "    r.adjust_for_ambient_noise(source2, duration=2)\n",
    "    print(\"Start to speak\")\n",
    "    \n",
    "    audio2 = r.listen(source2)\n",
    "    \n",
    "    MyText = r.recognize_google(audio2)\n",
    "    MyText = MyText.lower()\n",
    "    print(\"Did you Say = \" + MyText)"
   ]
  },
  {
   "cell_type": "code",
   "execution_count": null,
   "metadata": {},
   "outputs": [],
   "source": []
  },
  {
   "cell_type": "code",
   "execution_count": 7,
   "metadata": {},
   "outputs": [
    {
     "name": "stdout",
     "output_type": "stream",
     "text": [
      "I am invoked\n"
     ]
    }
   ],
   "source": [
    "import git\n",
    "try:\n",
    "  if MyText == 'git clone':\n",
    "    git.Git(\"D:\\Virag essentials\\Sem-6\").clone(\"https://github.com/19IT114/Machine-Learning-Practicals.git\")\n",
    "  else:\n",
    "    SpeakText(\"I am not able to get that command. Please try again.\")\n",
    "except:\n",
    "  SpeakText(\"Cannot Clone the current Repository to the specified Directory\")\n"
   ]
  },
  {
   "cell_type": "code",
   "execution_count": null,
   "metadata": {},
   "outputs": [],
   "source": []
  },
  {
   "cell_type": "code",
   "execution_count": null,
   "metadata": {},
   "outputs": [],
   "source": []
  }
 ],
 "metadata": {
  "kernelspec": {
   "display_name": "Python 3",
   "language": "python",
   "name": "python3"
  },
  "language_info": {
   "codemirror_mode": {
    "name": "ipython",
    "version": 3
   },
   "file_extension": ".py",
   "mimetype": "text/x-python",
   "name": "python",
   "nbconvert_exporter": "python",
   "pygments_lexer": "ipython3",
   "version": "3.8.5"
  }
 },
 "nbformat": 4,
 "nbformat_minor": 4
}
